{
 "cells": [
  {
   "cell_type": "code",
   "execution_count": 1,
   "metadata": {
    "colab": {
     "base_uri": "https://localhost:8080/"
    },
    "id": "ZwuuLZ6PDKKJ",
    "outputId": "2111262c-8d2a-4e58-b71b-35bddce91513"
   },
   "outputs": [
    {
     "name": "stdout",
     "output_type": "stream",
     "text": [
      "module google.colab.patches not imported.\n"
     ]
    }
   ],
   "source": [
    "import os\n",
    "import numpy as np\n",
    "\n",
    "import tensorflow as tf\n",
    "\n",
    "from tensorflow.keras import datasets, layers, models\n",
    "import matplotlib.pyplot as plt\n",
    "  \n",
    "import food_mnist\n",
    "\n",
    "from keras.utils.np_utils import to_categorical\n",
    "\n",
    "import warnings\n",
    "warnings.filterwarnings(\"ignore\")"
   ]
  },
  {
   "cell_type": "code",
   "execution_count": 2,
   "metadata": {
    "id": "X3cMP2lUu8rK"
   },
   "outputs": [],
   "source": [
    "(x_train, y_train), (x_test, y_test) = food_mnist.load_data()\n",
    "labels_dict = food_mnist.labels()"
   ]
  },
  {
   "cell_type": "code",
   "execution_count": 3,
   "metadata": {
    "id": "Bnpu9ioN4WCN"
   },
   "outputs": [],
   "source": [
    "x_train = x_train/255.\n",
    "x_test = x_test/255.\n",
    "\n",
    "y_train = np.array(y_train)\n",
    "y_test = np.array(y_test)\n",
    "\n",
    "y_train = to_categorical(y_train)\n",
    "y_test = to_categorical(y_test)"
   ]
  },
  {
   "cell_type": "code",
   "execution_count": null,
   "metadata": {
    "colab": {
     "base_uri": "https://localhost:8080/"
    },
    "id": "dr9sIlWeDyq8",
    "outputId": "d20df638-e239-42c5-b747-b7d0aeb351ef"
   },
   "outputs": [
    {
     "name": "stdout",
     "output_type": "stream",
     "text": [
      "number of training examples = 3750\n",
      "number of test examples = 1250\n",
      "X_train shape: (3750, 224, 224, 3)\n",
      "Y_train shape: (3750, 10)\n",
      "X_test shape: (1250, 224, 224, 3)\n",
      "Y_test shape: (1250, 10)\n",
      "[0. 1. 0. 0. 0. 0. 0. 0. 0. 0.]\n"
     ]
    }
   ],
   "source": [
    "print (\"number of training examples = \" + str(x_train.shape[0]))\n",
    "print (\"number of test examples = \" + str(x_test.shape[0]))\n",
    "print (\"X_train shape: \" + str(x_train.shape))\n",
    "print (\"Y_train shape: \" + str(y_train.shape))\n",
    "print (\"X_test shape: \" + str(x_test.shape))\n",
    "print (\"Y_test shape: \" + str(y_test.shape))\n",
    "print(y_train[500])"
   ]
  },
  {
   "cell_type": "code",
   "execution_count": 4,
   "metadata": {
    "id": "HajIviGsD4Rp"
   },
   "outputs": [],
   "source": [
    "model = models.Sequential()\n",
    "\n",
    "model.add(layers.Conv2D(32, 3, activation ='relu',input_shape=(224, 224, 3)))\n",
    "model.add(layers.MaxPooling2D())\n",
    "model.add(layers.Conv2D(64, 3, activation ='relu'))\n",
    "model.add(layers.MaxPooling2D())\n",
    "model.add(layers.Flatten())\n",
    "model.add(layers.Dense(100, activation ='relu'))\n",
    "model.add(layers.Dense(10, activation ='softmax'))"
   ]
  },
  {
   "cell_type": "code",
   "execution_count": 5,
   "metadata": {
    "colab": {
     "base_uri": "https://localhost:8080/"
    },
    "id": "qkop-EWaFCph",
    "outputId": "8d523b4e-3247-4d2f-c852-69adde36a1f3"
   },
   "outputs": [
    {
     "name": "stdout",
     "output_type": "stream",
     "text": [
      "Epoch 1/5\n",
      "118/118 [==============================] - 76s 646ms/step - loss: 2.5265 - accuracy: 0.1832\n",
      "Epoch 2/5\n",
      "118/118 [==============================] - 82s 698ms/step - loss: 1.9148 - accuracy: 0.3312\n",
      "Epoch 3/5\n",
      "118/118 [==============================] - 82s 697ms/step - loss: 1.4034 - accuracy: 0.5307\n",
      "Epoch 4/5\n",
      "118/118 [==============================] - 82s 697ms/step - loss: 0.6731 - accuracy: 0.7941\n",
      "Epoch 5/5\n",
      "118/118 [==============================] - 84s 713ms/step - loss: 0.2060 - accuracy: 0.9437\n"
     ]
    }
   ],
   "source": [
    "model.compile(optimizer='adam',\n",
    "              loss='categorical_crossentropy',\n",
    "              metrics=['accuracy'])\n",
    "\n",
    "history = model.fit(x_train, y_train, epochs=5)"
   ]
  },
  {
   "cell_type": "code",
   "execution_count": 6,
   "metadata": {
    "colab": {
     "base_uri": "https://localhost:8080/"
    },
    "id": "OaAVXHUdV8op",
    "outputId": "9e5a8a51-2306-4cf1-b582-0f324ca91bb4"
   },
   "outputs": [
    {
     "name": "stdout",
     "output_type": "stream",
     "text": [
      "Total-test-data: 1250 \n",
      "Accurately-predicted-data: 412 \n",
      "Wrongly-predicted-data: 838\n",
      "Accuracy: 32.96 %\n"
     ]
    }
   ],
   "source": [
    "y_pred = model.predict(x_test)\n",
    "total = 0\n",
    "accurate = 0\n",
    "accurateindex = []\n",
    "wrongindex = []\n",
    "\n",
    "for i in range (len(y_pred)):\n",
    "    if np.argmax(y_pred[i]) == np.argmax(y_test[i]):\n",
    "        accurate += 1\n",
    "        accurateindex.append(i)\n",
    "    else:\n",
    "        wrongindex.append(i)\n",
    "  \n",
    "    total += 1\n",
    "\n",
    "print('Total-test-data:',total,'\\nAccurately-predicted-data:',accurate,'\\nWrongly-predicted-data:',total - accurate)\n",
    "print('Accuracy:',round(accurate/total*100,3),'%')"
   ]
  },
  {
   "cell_type": "code",
   "execution_count": 8,
   "metadata": {
    "colab": {
     "base_uri": "https://localhost:8080/",
     "height": 295
    },
    "id": "ltooClefPeZ4",
    "outputId": "40ce7c2d-f24f-4a9a-b218-69a5fe6c95d8"
   },
   "outputs": [
    {
     "data": {
      "image/png": "[encoded data removed]",
      "text/plain": [
       "<Figure size 432x288 with 1 Axes>"
      ]
     },
     "metadata": {
      "needs_background": "light"
     },
     "output_type": "display_data"
    }
   ],
   "source": [
    "import matplotlib.pyplot as plt\n",
    "\n",
    "loss = history.history['loss']\n",
    "epochs = np.arange(0,5)\n",
    "plt.plot(epochs, loss, label='Training loss')\n",
    "plt.title('Loss')\n",
    "plt.xlabel('Epochs')\n",
    "plt.ylabel('Loss')\n",
    "plt.legend()\n",
    "plt.show()"
   ]
  },
  {
   "cell_type": "code",
   "execution_count": 9,
   "metadata": {
    "colab": {
     "base_uri": "https://localhost:8080/",
     "height": 295
    },
    "id": "H_w3IZdePrBp",
    "outputId": "3f8e41d4-36df-4890-aef4-4742acb18df0"
   },
   "outputs": [
    {
     "data": {
      "image/png": "[encoded data removed]",
      "text/plain": [
       "<Figure size 432x288 with 1 Axes>"
      ]
     },
     "metadata": {
      "needs_background": "light"
     },
     "output_type": "display_data"
    }
   ],
   "source": [
    "accuracy = history.history['accuracy']\n",
    "epochs = np.arange(0,5)\n",
    "plt.plot(epochs, accuracy, label='Accuracy')\n",
    "plt.title('Accuracy')\n",
    "plt.xlabel('Epochs')\n",
    "plt.ylabel('Accuracy')\n",
    "plt.legend()\n",
    "plt.show()"
   ]
  },
  {
   "cell_type": "code",
   "execution_count": null,
   "metadata": {},
   "outputs": [],
   "source": []
  }
 ],
 "metadata": {
  "colab": {
   "collapsed_sections": [],
   "name": "foodmnist_CNN.ipynb",
   "provenance": []
  },
  "kernelspec": {
   "display_name": "Python 3",
   "language": "python",
   "name": "python3"
  },
  "language_info": {
   "codemirror_mode": {
    "name": "ipython",
    "version": 3
   },
   "file_extension": ".py",
   "mimetype": "text/x-python",
   "name": "python",
   "nbconvert_exporter": "python",
   "pygments_lexer": "ipython3",
   "version": "3.8.3"
  }
 },
 "nbformat": 4,
 "nbformat_minor": 1
}
