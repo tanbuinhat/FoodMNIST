{
 "cells": [
  {
   "cell_type": "code",
   "execution_count": 44,
   "metadata": {},
   "outputs": [],
   "source": [
    "from tensorflow.keras.layers import Input, DepthwiseConv2D, \\\n",
    "     Conv2D, BatchNormalization, ReLU, AvgPool2D, Flatten, Dense, Concatenate,GlobalAvgPool2D, Add, Lambda, Activation, Reshape\n",
    "\n",
    "import numpy as np\n",
    "\n",
    "import math\n",
    "\n",
    "from tensorflow.keras import Model\n",
    "\n",
    "from keras.utils.np_utils import to_categorical\n",
    "from keras import utils as np_utils\n",
    "import food_mnist\n",
    "\n",
    "import warnings\n",
    "warnings.filterwarnings(\"ignore\")"
   ]
  },
  {
   "cell_type": "code",
   "execution_count": 2,
   "metadata": {},
   "outputs": [],
   "source": [
    "(x_train, y_train), (x_test, y_test) = food_mnist.load_data()\n",
    "labels_names = food_mnist.labels()"
   ]
  },
  {
   "cell_type": "code",
   "execution_count": 3,
   "metadata": {},
   "outputs": [],
   "source": [
    "x_train = x_train/255.\n",
    "x_test = x_test/255.\n",
    "\n",
    "y_train = np.array(y_train)\n",
    "y_test = np.array(y_test)\n",
    "\n",
    "y_train = to_categorical(y_train)\n",
    "y_test = to_categorical(y_test)"
   ]
  },
  {
   "cell_type": "code",
   "execution_count": 4,
   "metadata": {},
   "outputs": [
    {
     "name": "stdout",
     "output_type": "stream",
     "text": [
      "number of training examples = 3750\n",
      "number of test examples = 1250\n",
      "X_train shape: (3750, 224, 224, 3)\n",
      "Y_train shape: (3750, 10)\n",
      "X_test shape: (1250, 224, 224, 3)\n",
      "Y_test shape: (1250, 10)\n",
      "[0. 1. 0. 0. 0. 0. 0. 0. 0. 0.]\n"
     ]
    }
   ],
   "source": [
    "print (\"number of training examples = \" + str(x_train.shape[0]))\n",
    "print (\"number of test examples = \" + str(x_test.shape[0]))\n",
    "print (\"X_train shape: \" + str(x_train.shape))\n",
    "print (\"Y_train shape: \" + str(y_train.shape))\n",
    "print (\"X_test shape: \" + str(x_test.shape))\n",
    "print (\"Y_test shape: \" + str(y_test.shape))\n",
    "print(y_train[500])"
   ]
  },
  {
   "cell_type": "code",
   "execution_count": 38,
   "metadata": {},
   "outputs": [],
   "source": [
    "def reshapes(x):\n",
    "    y = Reshape((1,1,int(x.shape[1])))(x)\n",
    "    return y\n",
    "\n",
    "def softmaxs(x):\n",
    "    y = softmax(x)\n",
    "    return y\n",
    "\n",
    "def slices(x,channel):\n",
    "    y = x[:,:,:,:channel] \n",
    "    return y\n",
    "\n",
    "def multiply(x,excitation):\n",
    "    scale = x * excitation\n",
    "    return scale\n",
    "\n",
    "def squeezes(x):\n",
    "    y = K.squeeze(x,1)\n",
    "    return y"
   ]
  },
  {
   "cell_type": "code",
   "execution_count": 39,
   "metadata": {},
   "outputs": [],
   "source": [
    "def SEModule(x,outchannels,ratio):\n",
    "    x1 = GlobalAveragePooling2D(data_format='channels_last')(x)\n",
    "    #squeeze = Reshape((1,1,int(x1.shape[1])))(x1)\n",
    "    squeeze = Lambda(reshapes)(x1)\n",
    "    fc1 = Conv2D(int(outchannels/ratio),(1,1),strides=(1,1),padding='same',data_format='channels_last',\n",
    "                 use_bias=False,activation=None)(squeeze)\n",
    "    relu= Activation('relu')(fc1)\n",
    "    fc2 = Conv2D(int(outchannels),(1,1),strides=(1,1),padding='same',data_format='channels_last',\n",
    "                 use_bias=False,activation=None)(relu)\n",
    "    excitation = Activation('hard_sigmoid')(fc2)\n",
    "    #scale = x * excitation\n",
    "    scale = Lambda(multiply,arguments={'excitation':excitation})(x)\n",
    "    return scale"
   ]
  },
  {
   "cell_type": "code",
   "execution_count": 40,
   "metadata": {},
   "outputs": [],
   "source": [
    "def GhostModule(x,outchannels,ratio,convkernel,dwkernel,padding='same',strides=1,data_format='channels_last',\n",
    "                use_bias=False,activation=None):\n",
    "    conv_out_channel = math.ceil(outchannels*1.0/ratio)\n",
    "    x = Conv2D(int(conv_out_channel),(convkernel,convkernel),strides=(strides,strides),padding=padding,data_format=data_format,\n",
    "               activation=activation,use_bias=use_bias)(x)\n",
    "    if(ratio==1):\n",
    "        return x\n",
    "    \n",
    "    dw = DepthwiseConv2D(dwkernel,strides,padding=padding,depth_multiplier=ratio-1,data_format=data_format,\n",
    "                         activation=activation,use_bias=use_bias)(x)\n",
    "    #dw = dw[:,:,:,:int(outchannels-conv_out_channel)]\n",
    "    dw = Lambda(slices,arguments={'channel':int(outchannels-conv_out_channel)})(dw)\n",
    "    x = Concatenate(axis=-1)([x,dw])\n",
    "    return x"
   ]
  },
  {
   "cell_type": "code",
   "execution_count": 41,
   "metadata": {},
   "outputs": [],
   "source": [
    "def GhostBottleneck(x,dwkernel,strides,exp,out,ratio,use_se):\n",
    "    x1 = DepthwiseConv2D(dwkernel,strides,padding='same',depth_multiplier=ratio-1,data_format='channels_last',\n",
    "                         activation=None,use_bias=False)(x)\n",
    "    x1 = BatchNormalization(axis=-1)(x1)\n",
    "    x1 = Conv2D(out,(1,1),strides=(1,1),padding='same',data_format='channels_last',\n",
    "               activation=None,use_bias=False)(x1)\n",
    "    x1 = BatchNormalization(axis=-1)(x1)\n",
    "    y = GhostModule(x,exp,ratio,1,3)\n",
    "    y = BatchNormalization(axis=-1)(y)\n",
    "    y = Activation('relu')(y)\n",
    "    if(strides>1):\n",
    "        y = DepthwiseConv2D(dwkernel,strides,padding='same',depth_multiplier=ratio-1,data_format='channels_last',\n",
    "                         activation=None,use_bias=False)(y)\n",
    "        y = BatchNormalization(axis=-1)(y)\n",
    "        y = Activation('relu')(y)\n",
    "    if(use_se==True):\n",
    "        y = SEModule(y,exp,ratio)\n",
    "    y = GhostModule(y,out,ratio,1,3)\n",
    "    y = BatchNormalization(axis=-1)(y)\n",
    "    y = Add()([x1,y])\n",
    "    return y"
   ]
  },
  {
   "cell_type": "code",
   "execution_count": 42,
   "metadata": {},
   "outputs": [],
   "source": [
    "INPUT_SHAPE = 224, 224, 3\n",
    "input = Input(INPUT_SHAPE)"
   ]
  },
  {
   "cell_type": "code",
   "execution_count": 47,
   "metadata": {},
   "outputs": [],
   "source": [
    "x = Conv2D(filters = 16, kernel_size= 3, strides=2, padding='same')(input)\n",
    "x = BatchNormalization()(x)\n",
    "x = ReLU()(x)\n",
    "\n",
    "x = GhostBottleneck(x, dwkernel = 3, strides = 1, exp = 16, out = 16, ratio = 2, use_se = False)\n",
    "x = GhostBottleneck(x, dwkernel = 3, strides = 2, exp = 48, out = 24, ratio = 2, use_se = False)\n",
    "x = GhostBottleneck(x, dwkernel = 3, strides = 1, exp = 72, out = 24, ratio = 2, use_se = False)\n",
    "x = GhostBottleneck(x, dwkernel = 5, strides = 2, exp = 72, out = 40, ratio = 2, use_se = False)\n",
    "# x = GhostBottleneck(x,5,1,120,40,2,True)\n",
    "# x = GhostBottleneck(x,3,2,240,80,2,False)\n",
    "# x = GhostBottleneck(x,3,1,200,80,2,False)\n",
    "# x = GhostBottleneck(x,3,1,184,80,2,False)\n",
    "# x = GhostBottleneck(x,3,1,184,80,2,False)\n",
    "# x = GhostBottleneck(x,3,1,480,112,2,True)\n",
    "# x = GhostBottleneck(x,3,1,672,112,2,True)\n",
    "# x = GhostBottleneck(x,5,2,672,160,2,True)\n",
    "# x = GhostBottleneck(x,5,1,960,160,2,False)\n",
    "# x = GhostBottleneck(x,5,1,960,160,2,True)\n",
    "# x = GhostBottleneck(x,5,1,960,160,2,False)\n",
    "# x = GhostBottleneck(x,5,1,960,160,2,True)  \n",
    "# x = Conv2D(960,(1,1),strides=(1,1),padding='same',data_format='channels_last',activation=None,use_bias=False)(x)\n",
    "x = GlobalAvgPool2D()(x)\n",
    "# x = Lambda(reshapes)(x)\n",
    "# x = Conv2D(1280,(1,1),strides=(1,1),padding='same',data_format='channels_last',activation=None,use_bias=False)(x)\n",
    "x = Dense(100, activation=\"relu\")(x)\n",
    "output = Dense(units=10, activation='softmax')(x)"
   ]
  },
  {
   "cell_type": "code",
   "execution_count": 48,
   "metadata": {},
   "outputs": [
    {
     "name": "stdout",
     "output_type": "stream",
     "text": [
      "Model: \"functional_3\"\n",
      "__________________________________________________________________________________________________\n",
      "Layer (type)                    Output Shape         Param #     Connected to                     \n",
      "==================================================================================================\n",
      "input_5 (InputLayer)            [(None, 224, 224, 3) 0                                            \n",
      "__________________________________________________________________________________________________\n",
      "conv2d_93 (Conv2D)              (None, 112, 112, 16) 448         input_5[0][0]                    \n",
      "__________________________________________________________________________________________________\n",
      "batch_normalization_121 (BatchN (None, 112, 112, 16) 64          conv2d_93[0][0]                  \n",
      "__________________________________________________________________________________________________\n",
      "re_lu_12 (ReLU)                 (None, 112, 112, 16) 0           batch_normalization_121[0][0]    \n",
      "__________________________________________________________________________________________________\n",
      "conv2d_95 (Conv2D)              (None, 112, 112, 8)  128         re_lu_12[0][0]                   \n",
      "__________________________________________________________________________________________________\n",
      "depthwise_conv2d_85 (DepthwiseC (None, 112, 112, 8)  72          conv2d_95[0][0]                  \n",
      "__________________________________________________________________________________________________\n",
      "lambda_50 (Lambda)              (None, 112, 112, 8)  0           depthwise_conv2d_85[0][0]        \n",
      "__________________________________________________________________________________________________\n",
      "concatenate_47 (Concatenate)    (None, 112, 112, 16) 0           conv2d_95[0][0]                  \n",
      "                                                                 lambda_50[0][0]                  \n",
      "__________________________________________________________________________________________________\n",
      "batch_normalization_124 (BatchN (None, 112, 112, 16) 64          concatenate_47[0][0]             \n",
      "__________________________________________________________________________________________________\n",
      "activation_33 (Activation)      (None, 112, 112, 16) 0           batch_normalization_124[0][0]    \n",
      "__________________________________________________________________________________________________\n",
      "conv2d_96 (Conv2D)              (None, 112, 112, 8)  128         activation_33[0][0]              \n",
      "__________________________________________________________________________________________________\n",
      "depthwise_conv2d_84 (DepthwiseC (None, 112, 112, 16) 144         re_lu_12[0][0]                   \n",
      "__________________________________________________________________________________________________\n",
      "depthwise_conv2d_86 (DepthwiseC (None, 112, 112, 8)  72          conv2d_96[0][0]                  \n",
      "__________________________________________________________________________________________________\n",
      "batch_normalization_122 (BatchN (None, 112, 112, 16) 64          depthwise_conv2d_84[0][0]        \n",
      "__________________________________________________________________________________________________\n",
      "lambda_51 (Lambda)              (None, 112, 112, 8)  0           depthwise_conv2d_86[0][0]        \n",
      "__________________________________________________________________________________________________\n",
      "conv2d_94 (Conv2D)              (None, 112, 112, 16) 256         batch_normalization_122[0][0]    \n",
      "__________________________________________________________________________________________________\n",
      "concatenate_48 (Concatenate)    (None, 112, 112, 16) 0           conv2d_96[0][0]                  \n",
      "                                                                 lambda_51[0][0]                  \n",
      "__________________________________________________________________________________________________\n",
      "batch_normalization_123 (BatchN (None, 112, 112, 16) 64          conv2d_94[0][0]                  \n",
      "__________________________________________________________________________________________________\n",
      "batch_normalization_125 (BatchN (None, 112, 112, 16) 64          concatenate_48[0][0]             \n",
      "__________________________________________________________________________________________________\n",
      "add_20 (Add)                    (None, 112, 112, 16) 0           batch_normalization_123[0][0]    \n",
      "                                                                 batch_normalization_125[0][0]    \n",
      "__________________________________________________________________________________________________\n",
      "conv2d_98 (Conv2D)              (None, 112, 112, 24) 384         add_20[0][0]                     \n",
      "__________________________________________________________________________________________________\n",
      "depthwise_conv2d_88 (DepthwiseC (None, 112, 112, 24) 216         conv2d_98[0][0]                  \n",
      "__________________________________________________________________________________________________\n",
      "lambda_52 (Lambda)              (None, 112, 112, 24) 0           depthwise_conv2d_88[0][0]        \n",
      "__________________________________________________________________________________________________\n",
      "concatenate_49 (Concatenate)    (None, 112, 112, 48) 0           conv2d_98[0][0]                  \n",
      "                                                                 lambda_52[0][0]                  \n",
      "__________________________________________________________________________________________________\n",
      "batch_normalization_128 (BatchN (None, 112, 112, 48) 192         concatenate_49[0][0]             \n",
      "__________________________________________________________________________________________________\n",
      "activation_34 (Activation)      (None, 112, 112, 48) 0           batch_normalization_128[0][0]    \n",
      "__________________________________________________________________________________________________\n",
      "depthwise_conv2d_89 (DepthwiseC (None, 56, 56, 48)   432         activation_34[0][0]              \n",
      "__________________________________________________________________________________________________\n",
      "batch_normalization_129 (BatchN (None, 56, 56, 48)   192         depthwise_conv2d_89[0][0]        \n",
      "__________________________________________________________________________________________________\n",
      "activation_35 (Activation)      (None, 56, 56, 48)   0           batch_normalization_129[0][0]    \n",
      "__________________________________________________________________________________________________\n",
      "conv2d_99 (Conv2D)              (None, 56, 56, 12)   576         activation_35[0][0]              \n",
      "__________________________________________________________________________________________________\n",
      "depthwise_conv2d_87 (DepthwiseC (None, 56, 56, 16)   144         add_20[0][0]                     \n",
      "__________________________________________________________________________________________________\n",
      "depthwise_conv2d_90 (DepthwiseC (None, 56, 56, 12)   108         conv2d_99[0][0]                  \n",
      "__________________________________________________________________________________________________\n",
      "batch_normalization_126 (BatchN (None, 56, 56, 16)   64          depthwise_conv2d_87[0][0]        \n",
      "__________________________________________________________________________________________________\n",
      "lambda_53 (Lambda)              (None, 56, 56, 12)   0           depthwise_conv2d_90[0][0]        \n",
      "__________________________________________________________________________________________________\n",
      "conv2d_97 (Conv2D)              (None, 56, 56, 24)   384         batch_normalization_126[0][0]    \n",
      "__________________________________________________________________________________________________\n",
      "concatenate_50 (Concatenate)    (None, 56, 56, 24)   0           conv2d_99[0][0]                  \n",
      "                                                                 lambda_53[0][0]                  \n",
      "__________________________________________________________________________________________________\n",
      "batch_normalization_127 (BatchN (None, 56, 56, 24)   96          conv2d_97[0][0]                  \n",
      "__________________________________________________________________________________________________\n",
      "batch_normalization_130 (BatchN (None, 56, 56, 24)   96          concatenate_50[0][0]             \n",
      "__________________________________________________________________________________________________\n",
      "add_21 (Add)                    (None, 56, 56, 24)   0           batch_normalization_127[0][0]    \n",
      "                                                                 batch_normalization_130[0][0]    \n",
      "__________________________________________________________________________________________________\n",
      "conv2d_101 (Conv2D)             (None, 56, 56, 36)   864         add_21[0][0]                     \n",
      "__________________________________________________________________________________________________\n",
      "depthwise_conv2d_92 (DepthwiseC (None, 56, 56, 36)   324         conv2d_101[0][0]                 \n",
      "__________________________________________________________________________________________________\n",
      "lambda_54 (Lambda)              (None, 56, 56, 36)   0           depthwise_conv2d_92[0][0]        \n",
      "__________________________________________________________________________________________________\n",
      "concatenate_51 (Concatenate)    (None, 56, 56, 72)   0           conv2d_101[0][0]                 \n",
      "                                                                 lambda_54[0][0]                  \n",
      "__________________________________________________________________________________________________\n",
      "batch_normalization_133 (BatchN (None, 56, 56, 72)   288         concatenate_51[0][0]             \n",
      "__________________________________________________________________________________________________\n",
      "activation_36 (Activation)      (None, 56, 56, 72)   0           batch_normalization_133[0][0]    \n",
      "__________________________________________________________________________________________________\n",
      "conv2d_102 (Conv2D)             (None, 56, 56, 12)   864         activation_36[0][0]              \n",
      "__________________________________________________________________________________________________\n",
      "depthwise_conv2d_91 (DepthwiseC (None, 56, 56, 24)   216         add_21[0][0]                     \n",
      "__________________________________________________________________________________________________\n",
      "depthwise_conv2d_93 (DepthwiseC (None, 56, 56, 12)   108         conv2d_102[0][0]                 \n",
      "__________________________________________________________________________________________________\n",
      "batch_normalization_131 (BatchN (None, 56, 56, 24)   96          depthwise_conv2d_91[0][0]        \n",
      "__________________________________________________________________________________________________\n",
      "lambda_55 (Lambda)              (None, 56, 56, 12)   0           depthwise_conv2d_93[0][0]        \n",
      "__________________________________________________________________________________________________\n",
      "conv2d_100 (Conv2D)             (None, 56, 56, 24)   576         batch_normalization_131[0][0]    \n",
      "__________________________________________________________________________________________________\n",
      "concatenate_52 (Concatenate)    (None, 56, 56, 24)   0           conv2d_102[0][0]                 \n",
      "                                                                 lambda_55[0][0]                  \n",
      "__________________________________________________________________________________________________\n",
      "batch_normalization_132 (BatchN (None, 56, 56, 24)   96          conv2d_100[0][0]                 \n",
      "__________________________________________________________________________________________________\n",
      "batch_normalization_134 (BatchN (None, 56, 56, 24)   96          concatenate_52[0][0]             \n",
      "__________________________________________________________________________________________________\n",
      "add_22 (Add)                    (None, 56, 56, 24)   0           batch_normalization_132[0][0]    \n",
      "                                                                 batch_normalization_134[0][0]    \n",
      "__________________________________________________________________________________________________\n",
      "conv2d_104 (Conv2D)             (None, 56, 56, 36)   864         add_22[0][0]                     \n",
      "__________________________________________________________________________________________________\n",
      "depthwise_conv2d_95 (DepthwiseC (None, 56, 56, 36)   324         conv2d_104[0][0]                 \n",
      "__________________________________________________________________________________________________\n",
      "lambda_56 (Lambda)              (None, 56, 56, 36)   0           depthwise_conv2d_95[0][0]        \n",
      "__________________________________________________________________________________________________\n",
      "concatenate_53 (Concatenate)    (None, 56, 56, 72)   0           conv2d_104[0][0]                 \n",
      "                                                                 lambda_56[0][0]                  \n",
      "__________________________________________________________________________________________________\n",
      "batch_normalization_137 (BatchN (None, 56, 56, 72)   288         concatenate_53[0][0]             \n",
      "__________________________________________________________________________________________________\n",
      "activation_37 (Activation)      (None, 56, 56, 72)   0           batch_normalization_137[0][0]    \n",
      "__________________________________________________________________________________________________\n",
      "depthwise_conv2d_96 (DepthwiseC (None, 28, 28, 72)   1800        activation_37[0][0]              \n",
      "__________________________________________________________________________________________________\n",
      "batch_normalization_138 (BatchN (None, 28, 28, 72)   288         depthwise_conv2d_96[0][0]        \n",
      "__________________________________________________________________________________________________\n",
      "activation_38 (Activation)      (None, 28, 28, 72)   0           batch_normalization_138[0][0]    \n",
      "__________________________________________________________________________________________________\n",
      "conv2d_105 (Conv2D)             (None, 28, 28, 20)   1440        activation_38[0][0]              \n",
      "__________________________________________________________________________________________________\n",
      "depthwise_conv2d_94 (DepthwiseC (None, 28, 28, 24)   600         add_22[0][0]                     \n",
      "__________________________________________________________________________________________________\n",
      "depthwise_conv2d_97 (DepthwiseC (None, 28, 28, 20)   180         conv2d_105[0][0]                 \n",
      "__________________________________________________________________________________________________\n",
      "batch_normalization_135 (BatchN (None, 28, 28, 24)   96          depthwise_conv2d_94[0][0]        \n",
      "__________________________________________________________________________________________________\n",
      "lambda_57 (Lambda)              (None, 28, 28, 20)   0           depthwise_conv2d_97[0][0]        \n",
      "__________________________________________________________________________________________________\n",
      "conv2d_103 (Conv2D)             (None, 28, 28, 40)   960         batch_normalization_135[0][0]    \n",
      "__________________________________________________________________________________________________\n",
      "concatenate_54 (Concatenate)    (None, 28, 28, 40)   0           conv2d_105[0][0]                 \n",
      "                                                                 lambda_57[0][0]                  \n",
      "__________________________________________________________________________________________________\n",
      "batch_normalization_136 (BatchN (None, 28, 28, 40)   160         conv2d_103[0][0]                 \n",
      "__________________________________________________________________________________________________\n",
      "batch_normalization_139 (BatchN (None, 28, 28, 40)   160         concatenate_54[0][0]             \n",
      "__________________________________________________________________________________________________\n",
      "add_23 (Add)                    (None, 28, 28, 40)   0           batch_normalization_136[0][0]    \n",
      "                                                                 batch_normalization_139[0][0]    \n",
      "__________________________________________________________________________________________________\n",
      "global_average_pooling2d_4 (Glo (None, 40)           0           add_23[0][0]                     \n",
      "__________________________________________________________________________________________________\n",
      "dense_2 (Dense)                 (None, 100)          4100        global_average_pooling2d_4[0][0] \n",
      "__________________________________________________________________________________________________\n",
      "dense_3 (Dense)                 (None, 10)           1010        dense_2[0][0]                    \n",
      "==================================================================================================\n",
      "Total params: 20,250\n",
      "Trainable params: 18,986\n",
      "Non-trainable params: 1,264\n",
      "__________________________________________________________________________________________________\n"
     ]
    }
   ],
   "source": [
    "model=Model(inputs=input,outputs=output)\n",
    "model.compile(optimizer='Adam',loss='categorical_crossentropy',metrics=['accuracy'])\n",
    "model.summary()"
   ]
  },
  {
   "cell_type": "code",
   "execution_count": 49,
   "metadata": {},
   "outputs": [
    {
     "name": "stdout",
     "output_type": "stream",
     "text": [
      "Epoch 1/5\n",
      "118/118 [==============================] - 146s 1s/step - loss: 2.0547 - accuracy: 0.2547\n",
      "Epoch 2/5\n",
      "118/118 [==============================] - 148s 1s/step - loss: 1.8360 - accuracy: 0.3611\n",
      "Epoch 3/5\n",
      "118/118 [==============================] - 145s 1s/step - loss: 1.7042 - accuracy: 0.3840\n",
      "Epoch 4/5\n",
      "118/118 [==============================] - 145s 1s/step - loss: 1.6375 - accuracy: 0.4176\n",
      "Epoch 5/5\n",
      "118/118 [==============================] - 154s 1s/step - loss: 1.5686 - accuracy: 0.4339\n"
     ]
    }
   ],
   "source": [
    "history = model.fit(x_train, y_train, epochs=5)"
   ]
  },
  {
   "cell_type": "code",
   "execution_count": 50,
   "metadata": {},
   "outputs": [
    {
     "name": "stdout",
     "output_type": "stream",
     "text": [
      "Total-test-data: 1250 \n",
      "Accurately-predicted-data: 461\n",
      "Wrongly-predicted-data:  789\n",
      "Accuracy: 36.88 %\n"
     ]
    }
   ],
   "source": [
    "ypred = model.predict(x_test)\n",
    "\n",
    "total = 0\n",
    "accurate = 0\n",
    "accurateindex = []\n",
    "wrongindex = []\n",
    "\n",
    "for i in range(len(ypred)):\n",
    "    if np.argmax(ypred[i]) == np.argmax(y_test[i]):\n",
    "        accurate += 1\n",
    "        accurateindex.append(i)\n",
    "    else:\n",
    "        wrongindex.append(i)\n",
    "        \n",
    "    total += 1\n",
    "    \n",
    "print('Total-test-data:', total, '\\nAccurately-predicted-data:', accurate)\n",
    "print('Wrongly-predicted-data: ', total - accurate)\n",
    "print('Accuracy:', round(accurate/total*100, 3), '%')"
   ]
  },
  {
   "cell_type": "code",
   "execution_count": 51,
   "metadata": {},
   "outputs": [
    {
     "data": {
      "image/png": "[encoded data removed]",
      "text/plain": [
       "<Figure size 432x288 with 1 Axes>"
      ]
     },
     "metadata": {
      "needs_background": "light"
     },
     "output_type": "display_data"
    }
   ],
   "source": [
    "import matplotlib.pyplot as plt\n",
    "\n",
    "loss = history.history['loss']\n",
    "epochs = np.arange(0,5)\n",
    "plt.plot(epochs, loss, label='Training loss')\n",
    "plt.title('Loss')\n",
    "plt.xlabel('Epochs')\n",
    "plt.ylabel('Loss')\n",
    "plt.legend()\n",
    "plt.show()"
   ]
  },
  {
   "cell_type": "code",
   "execution_count": 52,
   "metadata": {},
   "outputs": [
    {
     "data": {
      "image/png": "[encoded data removed]",
      "text/plain": [
       "<Figure size 432x288 with 1 Axes>"
      ]
     },
     "metadata": {
      "needs_background": "light"
     },
     "output_type": "display_data"
    }
   ],
   "source": [
    "accuracy = history.history['accuracy']\n",
    "epochs = np.arange(0,5)\n",
    "plt.plot(epochs, accuracy, label='Accuracy')\n",
    "plt.title('Accuracy')\n",
    "plt.xlabel('Epochs')\n",
    "plt.ylabel('Accuracy')\n",
    "plt.legend()\n",
    "plt.show()"
   ]
  },
  {
   "cell_type": "code",
   "execution_count": null,
   "metadata": {},
   "outputs": [],
   "source": []
  }
 ],
 "metadata": {
  "kernelspec": {
   "display_name": "Python 3",
   "language": "python",
   "name": "python3"
  },
  "language_info": {
   "codemirror_mode": {
    "name": "ipython",
    "version": 3
   },
   "file_extension": ".py",
   "mimetype": "text/x-python",
   "name": "python",
   "nbconvert_exporter": "python",
   "pygments_lexer": "ipython3",
   "version": "3.8.3"
  }
 },
 "nbformat": 4,
 "nbformat_minor": 4
}
