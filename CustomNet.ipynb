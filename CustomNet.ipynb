{
 "cells": [
  {
   "cell_type": "code",
   "execution_count": 17,
   "metadata": {},
   "outputs": [],
   "source": [
    "from tensorflow.keras.layers import Input, DepthwiseConv2D, \\\n",
    "     Conv2D, BatchNormalization, ReLU, AvgPool2D, Flatten, Dense, Concatenate,GlobalAvgPool2D, Add\n",
    "\n",
    "from tensorflow.keras import Model\n",
    "\n",
    "import numpy as np"
   ]
  },
  {
   "cell_type": "code",
   "execution_count": 18,
   "metadata": {},
   "outputs": [],
   "source": [
    "def mobilenet_block(x, filters, strides):\n",
    "    x = DepthwiseConv2D(kernel_size=3, strides=strides, padding='same')(x)\n",
    "    x = BatchNormalization()(x)\n",
    "    x = ReLU()(x)\n",
    "    \n",
    "    x = Conv2D(filters=filters, kernel_size=1, strides=1, padding='same')(x)\n",
    "    x = BatchNormalization()(x)\n",
    "    x = ReLU()(x)\n",
    "    return x"
   ]
  },
  {
   "cell_type": "code",
   "execution_count": 19,
   "metadata": {},
   "outputs": [],
   "source": [
    "INPUT_SHAPE = 224, 224, 3\n",
    "\n",
    "input = Input(INPUT_SHAPE)"
   ]
  },
  {
   "cell_type": "code",
   "execution_count": 65,
   "metadata": {},
   "outputs": [],
   "source": [
    "x_first = Conv2D(filters=64, kernel_size=3, strides=2, padding='same')(input)\n",
    "x_first = BatchNormalization()(x_first)\n",
    "x_first = ReLU()(x_first)\n",
    "\n",
    "x = mobilenet_block(x_first, filters=64, strides=1)\n",
    "\n",
    "x = Add()([x_first, x])\n",
    "\n",
    "x_second = mobilenet_block(x, filters=128, strides=2)\n",
    "\n",
    "x = mobilenet_block(x_second, filters=128, strides=1)\n",
    "\n",
    "x = Add()([x_second, x])\n",
    "\n",
    "x = GlobalAvgPool2D()(x)\n",
    "\n",
    "x = Dense(100, activation=\"relu\")(x)\n",
    "\n",
    "output = Dense(units=10, activation='softmax')(x)\n"
   ]
  },
  {
   "cell_type": "code",
   "execution_count": 49,
   "metadata": {},
   "outputs": [
    {
     "name": "stdout",
     "output_type": "stream",
     "text": [
      "Model: \"functional_11\"\n",
      "__________________________________________________________________________________________________\n",
      "Layer (type)                    Output Shape         Param #     Connected to                     \n",
      "==================================================================================================\n",
      "input_2 (InputLayer)            [(None, 224, 224, 3) 0                                            \n",
      "__________________________________________________________________________________________________\n",
      "conv2d_35 (Conv2D)              (None, 112, 112, 64) 1792        input_2[0][0]                    \n",
      "__________________________________________________________________________________________________\n",
      "batch_normalization_63 (BatchNo (None, 112, 112, 64) 256         conv2d_35[0][0]                  \n",
      "__________________________________________________________________________________________________\n",
      "re_lu_63 (ReLU)                 (None, 112, 112, 64) 0           batch_normalization_63[0][0]     \n",
      "__________________________________________________________________________________________________\n",
      "depthwise_conv2d_31 (DepthwiseC (None, 112, 112, 64) 640         re_lu_63[0][0]                   \n",
      "__________________________________________________________________________________________________\n",
      "batch_normalization_64 (BatchNo (None, 112, 112, 64) 256         depthwise_conv2d_31[0][0]        \n",
      "__________________________________________________________________________________________________\n",
      "re_lu_64 (ReLU)                 (None, 112, 112, 64) 0           batch_normalization_64[0][0]     \n",
      "__________________________________________________________________________________________________\n",
      "conv2d_36 (Conv2D)              (None, 112, 112, 64) 4160        re_lu_64[0][0]                   \n",
      "__________________________________________________________________________________________________\n",
      "batch_normalization_65 (BatchNo (None, 112, 112, 64) 256         conv2d_36[0][0]                  \n",
      "__________________________________________________________________________________________________\n",
      "re_lu_65 (ReLU)                 (None, 112, 112, 64) 0           batch_normalization_65[0][0]     \n",
      "__________________________________________________________________________________________________\n",
      "add_12 (Add)                    (None, 112, 112, 64) 0           re_lu_63[0][0]                   \n",
      "                                                                 re_lu_65[0][0]                   \n",
      "__________________________________________________________________________________________________\n",
      "depthwise_conv2d_32 (DepthwiseC (None, 56, 56, 64)   640         add_12[0][0]                     \n",
      "__________________________________________________________________________________________________\n",
      "batch_normalization_66 (BatchNo (None, 56, 56, 64)   256         depthwise_conv2d_32[0][0]        \n",
      "__________________________________________________________________________________________________\n",
      "re_lu_66 (ReLU)                 (None, 56, 56, 64)   0           batch_normalization_66[0][0]     \n",
      "__________________________________________________________________________________________________\n",
      "conv2d_37 (Conv2D)              (None, 56, 56, 128)  8320        re_lu_66[0][0]                   \n",
      "__________________________________________________________________________________________________\n",
      "batch_normalization_67 (BatchNo (None, 56, 56, 128)  512         conv2d_37[0][0]                  \n",
      "__________________________________________________________________________________________________\n",
      "re_lu_67 (ReLU)                 (None, 56, 56, 128)  0           batch_normalization_67[0][0]     \n",
      "__________________________________________________________________________________________________\n",
      "depthwise_conv2d_33 (DepthwiseC (None, 56, 56, 128)  1280        re_lu_67[0][0]                   \n",
      "__________________________________________________________________________________________________\n",
      "batch_normalization_68 (BatchNo (None, 56, 56, 128)  512         depthwise_conv2d_33[0][0]        \n",
      "__________________________________________________________________________________________________\n",
      "re_lu_68 (ReLU)                 (None, 56, 56, 128)  0           batch_normalization_68[0][0]     \n",
      "__________________________________________________________________________________________________\n",
      "conv2d_38 (Conv2D)              (None, 56, 56, 128)  16512       re_lu_68[0][0]                   \n",
      "__________________________________________________________________________________________________\n",
      "batch_normalization_69 (BatchNo (None, 56, 56, 128)  512         conv2d_38[0][0]                  \n",
      "__________________________________________________________________________________________________\n",
      "re_lu_69 (ReLU)                 (None, 56, 56, 128)  0           batch_normalization_69[0][0]     \n",
      "__________________________________________________________________________________________________\n",
      "add_13 (Add)                    (None, 56, 56, 128)  0           re_lu_67[0][0]                   \n",
      "                                                                 re_lu_69[0][0]                   \n",
      "__________________________________________________________________________________________________\n",
      "global_average_pooling2d_6 (Glo (None, 128)          0           add_13[0][0]                     \n",
      "__________________________________________________________________________________________________\n",
      "dense_12 (Dense)                (None, 100)          12900       global_average_pooling2d_6[0][0] \n",
      "__________________________________________________________________________________________________\n",
      "dense_13 (Dense)                (None, 10)           1010        dense_12[0][0]                   \n",
      "==================================================================================================\n",
      "Total params: 49,814\n",
      "Trainable params: 48,534\n",
      "Non-trainable params: 1,280\n",
      "__________________________________________________________________________________________________\n"
     ]
    }
   ],
   "source": [
    "model = Model(inputs=input, outputs=output)\n",
    "model.compile(optimizer='Adam',loss='categorical_crossentropy',metrics=['accuracy'])\n",
    "model.summary()"
   ]
  },
  {
   "cell_type": "code",
   "execution_count": 22,
   "metadata": {},
   "outputs": [],
   "source": [
    "import food_mnist \n",
    "from keras.utils.np_utils import to_categorical\n",
    "\n",
    "(x_train, y_train), (x_test, y_test) = food_mnist.load_data()\n",
    "labels_names = food_mnist.labels()"
   ]
  },
  {
   "cell_type": "code",
   "execution_count": 23,
   "metadata": {},
   "outputs": [],
   "source": [
    "x_train = x_train/255.\n",
    "x_test = x_test/255.\n",
    "\n",
    "y_train = np.array(y_train)\n",
    "y_test = np.array(y_test)\n",
    "\n",
    "y_train = to_categorical(y_train)\n",
    "y_test = to_categorical(y_test)"
   ]
  },
  {
   "cell_type": "code",
   "execution_count": 47,
   "metadata": {},
   "outputs": [
    {
     "name": "stdout",
     "output_type": "stream",
     "text": [
      "number of training examples = 3750\n",
      "number of test examples = 1250\n",
      "X_train shape: (3750, 224, 224, 3)\n",
      "Y_train shape: (3750, 10)\n",
      "X_test shape: (1250, 224, 224, 3)\n",
      "Y_test shape: (1250, 10)\n"
     ]
    }
   ],
   "source": [
    "print (\"number of training examples = \" + str(x_train.shape[0]))\n",
    "print (\"number of test examples = \" + str(x_test.shape[0]))\n",
    "print (\"X_train shape: \" + str(x_train.shape))\n",
    "print (\"Y_train shape: \" + str(y_train.shape))\n",
    "print (\"X_test shape: \" + str(x_test.shape))\n",
    "print (\"Y_test shape: \" + str(y_test.shape))"
   ]
  },
  {
   "cell_type": "code",
   "execution_count": 66,
   "metadata": {},
   "outputs": [
    {
     "name": "stdout",
     "output_type": "stream",
     "text": [
      "Epoch 1/5\n",
      "118/118 [==============================] - 153s 1s/step - loss: 1.5194 - accuracy: 0.4512\n",
      "Epoch 2/5\n",
      "118/118 [==============================] - 163s 1s/step - loss: 1.4853 - accuracy: 0.4781\n",
      "Epoch 3/5\n",
      "118/118 [==============================] - 176s 1s/step - loss: 1.4274 - accuracy: 0.4915\n",
      "Epoch 4/5\n",
      "118/118 [==============================] - 166s 1s/step - loss: 1.3932 - accuracy: 0.5077\n",
      "Epoch 5/5\n",
      "118/118 [==============================] - 167s 1s/step - loss: 1.3816 - accuracy: 0.5067\n"
     ]
    }
   ],
   "source": [
    "history = model.fit(x_train, y_train,\n",
    "              epochs=5)"
   ]
  },
  {
   "cell_type": "code",
   "execution_count": 67,
   "metadata": {},
   "outputs": [
    {
     "name": "stdout",
     "output_type": "stream",
     "text": [
      "Total-test-data: 1250 \n",
      "Accurately-predicted-data: 561 \n",
      "Wrongly-predicted-data:  689\n",
      "Accuracy: 44.88 %\n"
     ]
    }
   ],
   "source": [
    "ypred = model.predict(x_test)\n",
    "\n",
    "total = 0\n",
    "accurate = 0\n",
    "accurateindex = []\n",
    "wrongindex = []\n",
    "\n",
    "for i in range(len(ypred)):\n",
    "    if np.argmax(ypred[i]) == np.argmax(y_test[i]):\n",
    "        accurate += 1\n",
    "        accurateindex.append(i)\n",
    "    else:\n",
    "        wrongindex.append(i)\n",
    "        \n",
    "    total += 1\n",
    "    \n",
    "print('Total-test-data:', total, '\\nAccurately-predicted-data:', accurate, '\\nWrongly-predicted-data: ', total - accurate)\n",
    "print('Accuracy:', round(accurate/total*100, 3), '%')"
   ]
  },
  {
   "cell_type": "code",
   "execution_count": 68,
   "metadata": {},
   "outputs": [
    {
     "name": "stdout",
     "output_type": "stream",
     "text": [
      "40/40 - 15s - loss: 1.6493 - accuracy: 0.4488\n",
      "Test loss: 1.649289846420288\n",
      "Test accuracy: 0.4487999975681305\n"
     ]
    }
   ],
   "source": [
    "test_scores = model.evaluate(x_test, y_test, verbose=2)\n",
    "print(\"Test loss:\", test_scores[0])\n",
    "print(\"Test accuracy:\", test_scores[1])"
   ]
  },
  {
   "cell_type": "code",
   "execution_count": 70,
   "metadata": {},
   "outputs": [
    {
     "data": {
      "image/png": "[encoded data removed]",
      "text/plain": [
       "<Figure size 432x288 with 1 Axes>"
      ]
     },
     "metadata": {
      "needs_background": "light"
     },
     "output_type": "display_data"
    }
   ],
   "source": [
    "import matplotlib.pyplot as plt\n",
    "\n",
    "loss = history.history['loss']\n",
    "epochs = np.arange(0,5)\n",
    "plt.plot(epochs, loss, label='Training loss')\n",
    "plt.title('Loss')\n",
    "plt.xlabel('Epochs')\n",
    "plt.ylabel('Loss')\n",
    "plt.legend()\n",
    "plt.show()"
   ]
  },
  {
   "cell_type": "code",
   "execution_count": 71,
   "metadata": {},
   "outputs": [
    {
     "data": {
      "image/png": "[encoded data removed]",
      "text/plain": [
       "<Figure size 432x288 with 1 Axes>"
      ]
     },
     "metadata": {
      "needs_background": "light"
     },
     "output_type": "display_data"
    }
   ],
   "source": [
    "accuracy = history.history['accuracy']\n",
    "epochs = np.arange(0,5)\n",
    "plt.plot(epochs, accuracy, label='Accuracy')\n",
    "plt.title('Accuracy')\n",
    "plt.xlabel('Epochs')\n",
    "plt.ylabel('Accuracy')\n",
    "plt.legend()\n",
    "plt.show()"
   ]
  },
  {
   "cell_type": "code",
   "execution_count": null,
   "metadata": {},
   "outputs": [],
   "source": []
  }
 ],
 "metadata": {
  "kernelspec": {
   "display_name": "Python 3",
   "language": "python",
   "name": "python3"
  },
  "language_info": {
   "codemirror_mode": {
    "name": "ipython",
    "version": 3
   },
   "file_extension": ".py",
   "mimetype": "text/x-python",
   "name": "python",
   "nbconvert_exporter": "python",
   "pygments_lexer": "ipython3",
   "version": "3.8.3"
  }
 },
 "nbformat": 4,
 "nbformat_minor": 4
}
